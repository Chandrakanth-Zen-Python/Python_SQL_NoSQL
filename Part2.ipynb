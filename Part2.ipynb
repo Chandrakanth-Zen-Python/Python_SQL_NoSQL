{
 "cells": [
  {
   "cell_type": "markdown",
   "metadata": {},
   "source": [
    "# Part-II\n",
    "\n",
    "- Functions\n",
    "- Class\n",
    "- Exception Handling\n",
    "- Decorators"
   ]
  },
  {
   "cell_type": "code",
   "execution_count": 1,
   "metadata": {},
   "outputs": [],
   "source": [
    "def HelloName(name):\n",
    "\n",
    "    'Prints Hello followed by name'\n",
    "\n",
    "    print('Hello '+name)\n",
    "\n",
    "    return None\n"
   ]
  },
  {
   "cell_type": "code",
   "execution_count": 2,
   "metadata": {},
   "outputs": [
    {
     "name": "stdout",
     "output_type": "stream",
     "text": [
      "Hello chandrakanth\n"
     ]
    }
   ],
   "source": [
    "HelloName(name='chandrakanth')"
   ]
  },
  {
   "cell_type": "code",
   "execution_count": 3,
   "metadata": {},
   "outputs": [],
   "source": [
    "def Addition(a,b):\n",
    "\n",
    "    'add a and b'\n",
    "\n",
    "    c=a+b\n",
    "\n",
    "    return c"
   ]
  },
  {
   "cell_type": "code",
   "execution_count": 4,
   "metadata": {},
   "outputs": [],
   "source": [
    "num=Addition(a=10,b=25)"
   ]
  },
  {
   "cell_type": "code",
   "execution_count": 5,
   "metadata": {},
   "outputs": [
    {
     "data": {
      "text/plain": [
       "35"
      ]
     },
     "execution_count": 5,
     "metadata": {},
     "output_type": "execute_result"
    }
   ],
   "source": [
    "num"
   ]
  },
  {
   "cell_type": "code",
   "execution_count": 6,
   "metadata": {},
   "outputs": [
    {
     "data": {
      "text/plain": [
       "'add a and b'"
      ]
     },
     "execution_count": 6,
     "metadata": {},
     "output_type": "execute_result"
    }
   ],
   "source": [
    "Addition.__doc__"
   ]
  },
  {
   "cell_type": "code",
   "execution_count": 9,
   "metadata": {},
   "outputs": [],
   "source": [
    "# Rucurssion - Function being called within itself"
   ]
  },
  {
   "cell_type": "code",
   "execution_count": 10,
   "metadata": {},
   "outputs": [],
   "source": [
    "def Factorial(num):\n",
    "\n",
    "    'does recurssion and finds the factorial of a number'\n",
    "\n",
    "    if num==1:\n",
    "\n",
    "        return 1\n",
    "    \n",
    "    else:\n",
    "\n",
    "        return num * Factorial(num=num-1)"
   ]
  },
  {
   "cell_type": "code",
   "execution_count": 13,
   "metadata": {},
   "outputs": [
    {
     "data": {
      "text/plain": [
       "24"
      ]
     },
     "execution_count": 13,
     "metadata": {},
     "output_type": "execute_result"
    }
   ],
   "source": [
    "Factorial(num=4)"
   ]
  },
  {
   "cell_type": "code",
   "execution_count": 12,
   "metadata": {},
   "outputs": [
    {
     "data": {
      "text/plain": [
       "24"
      ]
     },
     "execution_count": 12,
     "metadata": {},
     "output_type": "execute_result"
    }
   ],
   "source": [
    "# 4 * factorial(3)\n",
    "\n",
    "# 4 * 3 * factorial(2)\n",
    "\n",
    "# 4 * 3 * 2 * factorial(1)\n",
    "\n",
    "# 4 * 3 * 2 *1"
   ]
  },
  {
   "cell_type": "code",
   "execution_count": 14,
   "metadata": {},
   "outputs": [],
   "source": [
    "# default values\n",
    "\n",
    "# we can assign data type"
   ]
  },
  {
   "cell_type": "code",
   "execution_count": 15,
   "metadata": {},
   "outputs": [],
   "source": [
    "def Subtraction(a,b=2):\n",
    "\n",
    "    'subtracts a by 2. b is optional'\n",
    "\n",
    "    return a-b"
   ]
  },
  {
   "cell_type": "code",
   "execution_count": 18,
   "metadata": {},
   "outputs": [
    {
     "data": {
      "text/plain": [
       "10"
      ]
     },
     "execution_count": 18,
     "metadata": {},
     "output_type": "execute_result"
    }
   ],
   "source": [
    "Subtraction(a=12)"
   ]
  },
  {
   "cell_type": "code",
   "execution_count": 19,
   "metadata": {},
   "outputs": [],
   "source": [
    "# default values\n",
    "\n",
    "def Division(a:int,b=2):\n",
    "\n",
    "    'divides a by b. b is optional'\n",
    "\n",
    "    return a/b"
   ]
  },
  {
   "cell_type": "code",
   "execution_count": 21,
   "metadata": {},
   "outputs": [
    {
     "data": {
      "text/plain": [
       "9.0"
      ]
     },
     "execution_count": 21,
     "metadata": {},
     "output_type": "execute_result"
    }
   ],
   "source": [
    "Division(a=45,b=5)"
   ]
  },
  {
   "cell_type": "code",
   "execution_count": 23,
   "metadata": {},
   "outputs": [
    {
     "data": {
      "text/plain": [
       "9.0"
      ]
     },
     "execution_count": 23,
     "metadata": {},
     "output_type": "execute_result"
    }
   ],
   "source": [
    "# positional arguments\n",
    "\n",
    "Division(45,5)"
   ]
  },
  {
   "cell_type": "raw",
   "metadata": {},
   "source": [
    "Task 1 - \n",
    "\n",
    "Create Functions for addition, multiplication and division.\n",
    "use default values for some of the parameters.\n",
    "call the function using positional arguments.\n",
    "\n",
    "\n",
    "Task 2 - Recurssion\n",
    "\n",
    "Calculate Fibonnoci series of a number 9\n",
    "\n",
    "[1, 1 , 2 , 3 , 5 , 8 , 13 , 21]"
   ]
  },
  {
   "cell_type": "code",
   "execution_count": 24,
   "metadata": {},
   "outputs": [],
   "source": [
    "def Fibonnoci(length,items=[]):\n",
    "\n",
    "    if length ==1:\n",
    "\n",
    "        return [1]\n",
    "    \n",
    "    else:\n",
    "\n",
    "        return sum(items[-2:])\n"
   ]
  },
  {
   "cell_type": "code",
   "execution_count": 27,
   "metadata": {},
   "outputs": [],
   "source": [
    "fibb_series=[]\n",
    "\n",
    "for i in range(9):\n",
    "\n",
    "    if i==0:\n",
    "\n",
    "        fibb_series.append(1)\n",
    "    \n",
    "    else:\n",
    "\n",
    "        fibb_series.append(sum(fibb_series[-2:]))\n",
    "\n",
    "\n",
    "\n"
   ]
  },
  {
   "cell_type": "code",
   "execution_count": 28,
   "metadata": {},
   "outputs": [
    {
     "data": {
      "text/plain": [
       "[1, 1, 2, 3, 5, 8, 13, 21, 34]"
      ]
     },
     "execution_count": 28,
     "metadata": {},
     "output_type": "execute_result"
    }
   ],
   "source": [
    "fibb_series"
   ]
  },
  {
   "cell_type": "raw",
   "metadata": {},
   "source": [
    "# Assignment First Week\n",
    "\n",
    "Get mobile number as input from the user.\n",
    "\n",
    "Create a function which is going to display that mobile number in following example format\n",
    "\n",
    "mobile num : 8767568725\n",
    "\n",
    "\n",
    "### ### ### ### ### ### ### ### ### ###\n",
    "# #   # #     # #   #   # #   #   # #\n",
    "###   # ###   # ### ### ###   # ### ###\n",
    "# #   # # #   #   # # # # #   # #     #\n",
    "###   # ###   # ### ### ###   # ### ###\n",
    "\n",
    "Hints\n",
    "\n",
    "- Create 5 lines of output\n",
    "- Against each line fill the corresponding pattern followed by a space and append it to a list.\n",
    "- Join statement to join all the items as a string\n",
    "   num=[\"### ### ### ### ### ### ### ### ### ###\",\n",
    "     \"# #   # #     # #   #   # #   #   # # \",\n",
    "     \"###   # ###   # ### ### ###   # ### ###\"]\n",
    "   print(\"\\n\".join(num))\n",
    "\n",
    "\n",
    "\n"
   ]
  },
  {
   "cell_type": "code",
   "execution_count": 29,
   "metadata": {},
   "outputs": [],
   "source": [
    "mobilnum=input(\"Enter the mobile number\")"
   ]
  },
  {
   "cell_type": "code",
   "execution_count": 30,
   "metadata": {},
   "outputs": [
    {
     "data": {
      "text/plain": [
       "'5626352432'"
      ]
     },
     "execution_count": 30,
     "metadata": {},
     "output_type": "execute_result"
    }
   ],
   "source": [
    "mobilnum"
   ]
  },
  {
   "cell_type": "code",
   "execution_count": 31,
   "metadata": {},
   "outputs": [],
   "source": []
  },
  {
   "cell_type": "code",
   "execution_count": 33,
   "metadata": {},
   "outputs": [
    {
     "name": "stdout",
     "output_type": "stream",
     "text": [
      "### ### ### ### ### ### ### ### ### ###\n",
      "# #   # #     # #   #   # #   #   # # \n",
      "###   # ###   # ### ### ###   # ### ###\n"
     ]
    }
   ],
   "source": [
    "print(\"\\n\".join(num))"
   ]
  },
  {
   "cell_type": "code",
   "execution_count": null,
   "metadata": {},
   "outputs": [],
   "source": []
  }
 ],
 "metadata": {
  "kernelspec": {
   "display_name": "Python 3",
   "language": "python",
   "name": "python3"
  },
  "language_info": {
   "codemirror_mode": {
    "name": "ipython",
    "version": 3
   },
   "file_extension": ".py",
   "mimetype": "text/x-python",
   "name": "python",
   "nbconvert_exporter": "python",
   "pygments_lexer": "ipython3",
   "version": "3.10.12"
  }
 },
 "nbformat": 4,
 "nbformat_minor": 2
}
