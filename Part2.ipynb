{
 "cells": [
  {
   "cell_type": "markdown",
   "metadata": {},
   "source": [
    "# Part-II\n",
    "\n",
    "- Functions\n",
    "- Class\n",
    "- Exception Handling\n",
    "- Decorators"
   ]
  },
  {
   "cell_type": "code",
   "execution_count": 1,
   "metadata": {},
   "outputs": [],
   "source": [
    "def HelloName(name):\n",
    "\n",
    "    'Prints Hello followed by name'\n",
    "\n",
    "    print('Hello '+name)\n",
    "\n",
    "    return None\n"
   ]
  },
  {
   "cell_type": "code",
   "execution_count": 2,
   "metadata": {},
   "outputs": [
    {
     "name": "stdout",
     "output_type": "stream",
     "text": [
      "Hello chandrakanth\n"
     ]
    }
   ],
   "source": [
    "HelloName(name='chandrakanth')"
   ]
  },
  {
   "cell_type": "code",
   "execution_count": 3,
   "metadata": {},
   "outputs": [],
   "source": [
    "def Addition(a,b):\n",
    "\n",
    "    'add a and b'\n",
    "\n",
    "    c=a+b\n",
    "\n",
    "    return c"
   ]
  },
  {
   "cell_type": "code",
   "execution_count": 4,
   "metadata": {},
   "outputs": [],
   "source": [
    "num=Addition(a=10,b=25)"
   ]
  },
  {
   "cell_type": "code",
   "execution_count": 5,
   "metadata": {},
   "outputs": [
    {
     "data": {
      "text/plain": [
       "35"
      ]
     },
     "execution_count": 5,
     "metadata": {},
     "output_type": "execute_result"
    }
   ],
   "source": [
    "num"
   ]
  },
  {
   "cell_type": "code",
   "execution_count": 6,
   "metadata": {},
   "outputs": [
    {
     "data": {
      "text/plain": [
       "'add a and b'"
      ]
     },
     "execution_count": 6,
     "metadata": {},
     "output_type": "execute_result"
    }
   ],
   "source": [
    "Addition.__doc__"
   ]
  },
  {
   "cell_type": "code",
   "execution_count": 9,
   "metadata": {},
   "outputs": [],
   "source": [
    "# Rucurssion - Function being called within itself"
   ]
  },
  {
   "cell_type": "code",
   "execution_count": 10,
   "metadata": {},
   "outputs": [],
   "source": [
    "def Factorial(num):\n",
    "\n",
    "    'does recurssion and finds the factorial of a number'\n",
    "\n",
    "    if num==1:\n",
    "\n",
    "        return 1\n",
    "    \n",
    "    else:\n",
    "\n",
    "        return num * Factorial(num=num-1)"
   ]
  },
  {
   "cell_type": "code",
   "execution_count": 13,
   "metadata": {},
   "outputs": [
    {
     "data": {
      "text/plain": [
       "24"
      ]
     },
     "execution_count": 13,
     "metadata": {},
     "output_type": "execute_result"
    }
   ],
   "source": [
    "Factorial(num=4)"
   ]
  },
  {
   "cell_type": "code",
   "execution_count": 12,
   "metadata": {},
   "outputs": [
    {
     "data": {
      "text/plain": [
       "24"
      ]
     },
     "execution_count": 12,
     "metadata": {},
     "output_type": "execute_result"
    }
   ],
   "source": [
    "# 4 * factorial(3)\n",
    "\n",
    "# 4 * 3 * factorial(2)\n",
    "\n",
    "# 4 * 3 * 2 * factorial(1)\n",
    "\n",
    "# 4 * 3 * 2 *1"
   ]
  },
  {
   "cell_type": "code",
   "execution_count": 14,
   "metadata": {},
   "outputs": [],
   "source": [
    "# default values\n",
    "\n",
    "# we can assign data type"
   ]
  },
  {
   "cell_type": "code",
   "execution_count": 15,
   "metadata": {},
   "outputs": [],
   "source": [
    "def Subtraction(a,b=2):\n",
    "\n",
    "    'subtracts a by 2. b is optional'\n",
    "\n",
    "    return a-b"
   ]
  },
  {
   "cell_type": "code",
   "execution_count": 18,
   "metadata": {},
   "outputs": [
    {
     "data": {
      "text/plain": [
       "10"
      ]
     },
     "execution_count": 18,
     "metadata": {},
     "output_type": "execute_result"
    }
   ],
   "source": [
    "Subtraction(a=12)"
   ]
  },
  {
   "cell_type": "code",
   "execution_count": 19,
   "metadata": {},
   "outputs": [],
   "source": [
    "# default values\n",
    "\n",
    "def Division(a:int,b=2):\n",
    "\n",
    "    'divides a by b. b is optional'\n",
    "\n",
    "    return a/b"
   ]
  },
  {
   "cell_type": "code",
   "execution_count": 21,
   "metadata": {},
   "outputs": [
    {
     "data": {
      "text/plain": [
       "9.0"
      ]
     },
     "execution_count": 21,
     "metadata": {},
     "output_type": "execute_result"
    }
   ],
   "source": [
    "Division(a=45,b=5)"
   ]
  },
  {
   "cell_type": "code",
   "execution_count": 23,
   "metadata": {},
   "outputs": [
    {
     "data": {
      "text/plain": [
       "9.0"
      ]
     },
     "execution_count": 23,
     "metadata": {},
     "output_type": "execute_result"
    }
   ],
   "source": [
    "# positional arguments\n",
    "\n",
    "Division(45,5)"
   ]
  },
  {
   "cell_type": "raw",
   "metadata": {},
   "source": [
    "Task 1 - \n",
    "\n",
    "Create Functions for addition, multiplication and division.\n",
    "use default values for some of the parameters.\n",
    "call the function using positional arguments.\n",
    "\n",
    "\n",
    "Task 2 - Recurssion\n",
    "\n",
    "Calculate Fibonnoci series of a number 9\n",
    "\n",
    "[1, 1 , 2 , 3 , 5 , 8 , 13 , 21]"
   ]
  },
  {
   "cell_type": "code",
   "execution_count": 24,
   "metadata": {},
   "outputs": [],
   "source": [
    "def Fibonnoci(length,items=[]):\n",
    "\n",
    "    if length ==1:\n",
    "\n",
    "        return [1]\n",
    "    \n",
    "    else:\n",
    "\n",
    "        return sum(items[-2:])\n"
   ]
  },
  {
   "cell_type": "code",
   "execution_count": 27,
   "metadata": {},
   "outputs": [],
   "source": [
    "fibb_series=[]\n",
    "\n",
    "for i in range(9):\n",
    "\n",
    "    if i==0:\n",
    "\n",
    "        fibb_series.append(1)\n",
    "    \n",
    "    else:\n",
    "\n",
    "        fibb_series.append(sum(fibb_series[-2:]))\n",
    "\n",
    "\n",
    "\n"
   ]
  },
  {
   "cell_type": "code",
   "execution_count": 28,
   "metadata": {},
   "outputs": [
    {
     "data": {
      "text/plain": [
       "[1, 1, 2, 3, 5, 8, 13, 21, 34]"
      ]
     },
     "execution_count": 28,
     "metadata": {},
     "output_type": "execute_result"
    }
   ],
   "source": [
    "fibb_series"
   ]
  },
  {
   "cell_type": "raw",
   "metadata": {},
   "source": [
    "# Assignment First Week\n",
    "\n",
    "Get mobile number as input from the user.\n",
    "\n",
    "Create a function which is going to display that mobile number in following example format\n",
    "\n",
    "mobile num : 8767568725\n",
    "\n",
    "\n",
    "### ### ### ### ### ### ### ### ### ###\n",
    "# #   # #     # #   #   # #   #   # #\n",
    "###   # ###   # ### ### ###   # ### ###\n",
    "# #   # # #   #   # # # # #   # #     #\n",
    "###   # ###   # ### ### ###   # ### ###\n",
    "\n",
    "Hints\n",
    "\n",
    "- Create 5 lines of output\n",
    "- Against each line fill the corresponding pattern followed by a space and append it to a list.\n",
    "- Join statement to join all the items as a string\n",
    "   num=[\"### ### ### ### ### ### ### ### ### ###\",\n",
    "     \"# #   # #     # #   #   # #   #   # # \",\n",
    "     \"###   # ###   # ### ### ###   # ### ###\"]\n",
    "   print(\"\\n\".join(num))\n",
    "\n",
    "\n",
    "\n"
   ]
  },
  {
   "cell_type": "code",
   "execution_count": 29,
   "metadata": {},
   "outputs": [],
   "source": [
    "mobilnum=input(\"Enter the mobile number\")"
   ]
  },
  {
   "cell_type": "code",
   "execution_count": 30,
   "metadata": {},
   "outputs": [
    {
     "data": {
      "text/plain": [
       "'5626352432'"
      ]
     },
     "execution_count": 30,
     "metadata": {},
     "output_type": "execute_result"
    }
   ],
   "source": [
    "mobilnum"
   ]
  },
  {
   "cell_type": "code",
   "execution_count": 3,
   "metadata": {},
   "outputs": [],
   "source": [
    "def GetValidMobileNumber():\n",
    "\n",
    "    'recursive function to capture mobile number'\n",
    "\n",
    "    mobilenum=input('Enter your mobile number')\n",
    "\n",
    "    if len(mobilenum)!=10 or mobilenum.isnumeric() is False:\n",
    "\n",
    "        print(\"Please Enter A Valid Mobile Number.\")\n",
    "\n",
    "        return GetValidMobileNumber()\n",
    "    \n",
    "    else:\n",
    "\n",
    "        return mobilenum\n",
    "    \n"
   ]
  },
  {
   "cell_type": "code",
   "execution_count": 4,
   "metadata": {},
   "outputs": [
    {
     "name": "stdout",
     "output_type": "stream",
     "text": [
      "Please Enter A Valid Mobile Number.\n",
      "Please Enter A Valid Mobile Number.\n"
     ]
    }
   ],
   "source": [
    "mobilenum=GetValidMobileNumber()"
   ]
  },
  {
   "cell_type": "code",
   "execution_count": 6,
   "metadata": {},
   "outputs": [
    {
     "data": {
      "text/plain": [
       "'9856314235'"
      ]
     },
     "execution_count": 6,
     "metadata": {},
     "output_type": "execute_result"
    }
   ],
   "source": [
    "mobilenum"
   ]
  },
  {
   "cell_type": "code",
   "execution_count": null,
   "metadata": {},
   "outputs": [],
   "source": [
    "###\n",
    "# # \n",
    "###\n",
    "  #  \n",
    "###"
   ]
  },
  {
   "cell_type": "code",
   "execution_count": 18,
   "metadata": {},
   "outputs": [],
   "source": [
    "def PrintDigits(mobilenum):\n",
    "\n",
    "    'prints the mobile number in digit format.'\n",
    "\n",
    "    digitMapPattern=[\n",
    "        '111101101101111', # 0\n",
    "        '001001001001001', # 1\n",
    "        '111001111100111', # 2\n",
    "        '111001111001111', # 3\n",
    "        '101101111001001', # 4\n",
    "        '111100111001111', # 5\n",
    "        '111100111101111', # 6\n",
    "        '111001001001001', # 7\n",
    "        '111101111101111', # 8\n",
    "        '111101111001111'  # 9\n",
    "    ]\n",
    "\n",
    "    outputLines=[]\n",
    "\n",
    "    for i in range(5):\n",
    "\n",
    "        lineDigit=''\n",
    "\n",
    "        for num in mobilenum:\n",
    "\n",
    "            numPattern=[digitMapPattern[int(num)][x:x+3] for x in range(0,len(digitMapPattern[int(num)]),3)]\n",
    "\n",
    "            numPatternLine=numPattern[i].replace('1',\"#\").replace('0',' ')  \n",
    "\n",
    "            lineDigit+=numPatternLine+' '      \n",
    "        \n",
    "        outputLines.append(lineDigit)\n",
    "    \n",
    "\n",
    "    print('\\n'.join(outputLines))\n",
    "    "
   ]
  },
  {
   "cell_type": "code",
   "execution_count": 20,
   "metadata": {},
   "outputs": [
    {
     "name": "stdout",
     "output_type": "stream",
     "text": [
      "### ### ### ### ### ### ### ### ### ### \n",
      "#   #     #   #   # # # #     # #     # \n",
      "### ### ### ###   # ### ### ### ### ### \n",
      "# #   #   # #     # # #   # #   # # #   \n",
      "### ### ### ###   # ### ### ### ### ### \n"
     ]
    }
   ],
   "source": [
    "PrintDigits('6532785262')"
   ]
  },
  {
   "cell_type": "code",
   "execution_count": 21,
   "metadata": {},
   "outputs": [],
   "source": [
    " #\n",
    "###   \n",
    " #"
   ]
  },
  {
   "cell_type": "code",
   "execution_count": 22,
   "metadata": {},
   "outputs": [],
   "source": [
    "\n",
    "###\n",
    "\n"
   ]
  },
  {
   "cell_type": "markdown",
   "metadata": {},
   "source": [
    "## Classes\n",
    "\n",
    "In simple terms class is a collection of related functions and variables."
   ]
  },
  {
   "cell_type": "code",
   "execution_count": null,
   "metadata": {},
   "outputs": [],
   "source": [
    "def LayFoundation():\n",
    "\n",
    "    pass\n",
    "\n",
    "def ErectPillars():\n",
    "\n",
    "    pass\n",
    "\n",
    "def Painting():\n",
    "\n",
    "    pass\n",
    "\n",
    "\n"
   ]
  },
  {
   "cell_type": "code",
   "execution_count": 23,
   "metadata": {},
   "outputs": [],
   "source": [
    "class House:\n",
    "\n",
    "    city='chennai'\n",
    "\n",
    "    style='traditional'\n",
    "\n",
    "\n",
    "    def LayFoundation():\n",
    "\n",
    "        'does foundation activity'\n",
    "    \n",
    "\n",
    "    def ErectPillars():\n",
    "\n",
    "        pass\n",
    "\n",
    "    def Painting():\n",
    "\n",
    "        pass\n"
   ]
  },
  {
   "cell_type": "code",
   "execution_count": 42,
   "metadata": {},
   "outputs": [],
   "source": [
    "class Math:\n",
    "\n",
    "    'This is a class object which does mathematical opeartions'\n",
    "\n",
    "    def __init__(self,num1,num2):\n",
    "\n",
    "        self.num1=num1\n",
    "\n",
    "        self.num2=num2\n",
    "    \n",
    "\n",
    "    def Addition(self):\n",
    "\n",
    "        'does addition between number 1 and number 2'\n",
    "\n",
    "        return self.num1+self.num2\n",
    "    \n",
    "\n",
    "    def Subtraction(self):\n",
    "\n",
    "        'does subtraction between two numbers'\n",
    "\n",
    "        return self.num1-self.num2\n",
    "    \n",
    "\n",
    "    def Multiplication(self):\n",
    "\n",
    "        'does multiplication'\n",
    "\n",
    "        return self.num1*self.num2\n",
    "    \n",
    "\n",
    "    def Division(self):\n",
    "\n",
    "        'does division'\n",
    "\n",
    "        return self.num1/self.num2\n",
    "    \n",
    "    def Factorial(self,new_num):\n",
    "\n",
    "        if new_num==1:\n",
    "\n",
    "            return 1\n",
    "        \n",
    "        else:\n",
    "\n",
    "            return new_num * self.Factorial(new_num-1)"
   ]
  },
  {
   "cell_type": "code",
   "execution_count": 43,
   "metadata": {},
   "outputs": [],
   "source": [
    "# initialize class object\n",
    "\n",
    "\n",
    "math=Math(num1=10,num2=5)"
   ]
  },
  {
   "cell_type": "code",
   "execution_count": 36,
   "metadata": {},
   "outputs": [
    {
     "data": {
      "text/plain": [
       "15"
      ]
     },
     "execution_count": 36,
     "metadata": {},
     "output_type": "execute_result"
    }
   ],
   "source": [
    "math.Addition()"
   ]
  },
  {
   "cell_type": "code",
   "execution_count": 37,
   "metadata": {},
   "outputs": [
    {
     "data": {
      "text/plain": [
       "5"
      ]
     },
     "execution_count": 37,
     "metadata": {},
     "output_type": "execute_result"
    }
   ],
   "source": [
    "math.Subtraction()"
   ]
  },
  {
   "cell_type": "code",
   "execution_count": 38,
   "metadata": {},
   "outputs": [
    {
     "data": {
      "text/plain": [
       "50"
      ]
     },
     "execution_count": 38,
     "metadata": {},
     "output_type": "execute_result"
    }
   ],
   "source": [
    "math.Multiplication()"
   ]
  },
  {
   "cell_type": "code",
   "execution_count": 39,
   "metadata": {},
   "outputs": [
    {
     "data": {
      "text/plain": [
       "10"
      ]
     },
     "execution_count": 39,
     "metadata": {},
     "output_type": "execute_result"
    }
   ],
   "source": [
    "math.num1"
   ]
  },
  {
   "cell_type": "code",
   "execution_count": 40,
   "metadata": {},
   "outputs": [
    {
     "data": {
      "text/plain": [
       "5"
      ]
     },
     "execution_count": 40,
     "metadata": {},
     "output_type": "execute_result"
    }
   ],
   "source": [
    "math.num2"
   ]
  },
  {
   "cell_type": "code",
   "execution_count": 44,
   "metadata": {},
   "outputs": [
    {
     "data": {
      "text/plain": [
       "120"
      ]
     },
     "execution_count": 44,
     "metadata": {},
     "output_type": "execute_result"
    }
   ],
   "source": [
    "math.Factorial(5)"
   ]
  },
  {
   "cell_type": "code",
   "execution_count": 45,
   "metadata": {},
   "outputs": [],
   "source": [
    "# Inheritance\n",
    "# Class House\n",
    "# Class Industry\n",
    "# Class City"
   ]
  },
  {
   "cell_type": "code",
   "execution_count": 46,
   "metadata": {},
   "outputs": [],
   "source": [
    "# City can inherit House & Industry"
   ]
  },
  {
   "cell_type": "code",
   "execution_count": 47,
   "metadata": {},
   "outputs": [],
   "source": [
    "class House:\n",
    "\n",
    "    def Basement():\n",
    "\n",
    "        pass\n",
    "\n",
    "    def Roofing():\n",
    "\n",
    "        pass\n",
    "\n",
    "    def Flooring():\n",
    "\n",
    "        pass\n",
    "\n",
    "    def Painting():\n",
    "\n",
    "        pass"
   ]
  },
  {
   "cell_type": "code",
   "execution_count": 48,
   "metadata": {},
   "outputs": [],
   "source": [
    "class Industry(House):\n",
    "\n",
    "    def MachineryInstallation():\n",
    "\n",
    "        pass\n",
    "\n",
    "    def Generators():\n",
    "\n",
    "        pass\n",
    "\n",
    "    def TransformersInstallation():\n",
    "\n",
    "        pass\n",
    "\n",
    "    def Maintenance():\n",
    "\n",
    "        pass"
   ]
  },
  {
   "cell_type": "code",
   "execution_count": 49,
   "metadata": {},
   "outputs": [],
   "source": [
    "ind1=Industry()"
   ]
  },
  {
   "cell_type": "code",
   "execution_count": 50,
   "metadata": {},
   "outputs": [],
   "source": [
    "# inheritance - using functions and variables from another class"
   ]
  },
  {
   "cell_type": "code",
   "execution_count": 54,
   "metadata": {},
   "outputs": [],
   "source": [
    "class City(Industry):\n",
    "\n",
    "\n",
    "    def PowerStationsInstallation():\n",
    "\n",
    "        pass\n",
    "\n",
    "    def DrainageSystem():\n",
    "\n",
    "        pass\n",
    "\n",
    "    def MuncipalityActivity():\n",
    "\n",
    "        pass"
   ]
  },
  {
   "cell_type": "code",
   "execution_count": 55,
   "metadata": {},
   "outputs": [],
   "source": [
    "city1=City()"
   ]
  },
  {
   "cell_type": "code",
   "execution_count": 56,
   "metadata": {},
   "outputs": [],
   "source": [
    "# Tic-Tac-Toe"
   ]
  },
  {
   "cell_type": "code",
   "execution_count": 57,
   "metadata": {},
   "outputs": [],
   "source": [
    "# Welcome the players with welcome text \"Welcome to Tic-Tac-Toe\"\n",
    "\n",
    "# Randomly assign 'X' or 'O' to player1 and player2\n",
    "\n",
    "# Print an empty Tic-Tac-Toe board\n",
    "\n",
    "# Prompt Player1 to place his piece on the board in a specific place\n",
    "\n",
    "# Check whether the game is over or not and let other player place his piece on the board.\n",
    "\n",
    "# Print the board with updated positions of pieces\n",
    "\n",
    "# Do the steps from 4 to 6 repeatedly till all the positions in the board is occupied.\n",
    "\n",
    "# If no player matched their pieces in a row or a column or in a diagonal, Then close the game with result \"Match Draw. Nobody Won\"\n",
    "\n",
    "# If any player had won then you are going to print 'Congrats. Player1 Won The Game With Piece 'O''.\n",
    "\n",
    "# You can prompt user to restart the game or quit.\n",
    "\n"
   ]
  },
  {
   "cell_type": "code",
   "execution_count": 59,
   "metadata": {},
   "outputs": [
    {
     "data": {
      "text/plain": [
       "False"
      ]
     },
     "execution_count": 59,
     "metadata": {},
     "output_type": "execute_result"
    }
   ],
   "source": [
    "all([True, True, False])"
   ]
  },
  {
   "cell_type": "code",
   "execution_count": 60,
   "metadata": {},
   "outputs": [
    {
     "data": {
      "text/plain": [
       "True"
      ]
     },
     "execution_count": 60,
     "metadata": {},
     "output_type": "execute_result"
    }
   ],
   "source": [
    "any([True, False, False])"
   ]
  },
  {
   "cell_type": "code",
   "execution_count": 87,
   "metadata": {},
   "outputs": [],
   "source": [
    "class TicTacToe:\n",
    "\n",
    "    def __init__(self,player1,player2):\n",
    "\n",
    "        'pass player names into the game'\n",
    "\n",
    "        self.player1=player1\n",
    "\n",
    "        self.player2=player2\n",
    "\n",
    "        self.board=[' ' for i in range(9)]\n",
    "\n",
    "        self.pieces=['X','O']\n",
    "    \n",
    "\n",
    "    def Board(self):\n",
    "\n",
    "        'prints the board based on the pieces'\n",
    "\n",
    "        print(\"\")\n",
    "\n",
    "        print('-----------------')\n",
    "\n",
    "        print(\n",
    "            '|'+self.board[0]+'|'+self.board[1]+'|'+self.board[2]+'|'\n",
    "        )\n",
    "\n",
    "        print(\n",
    "            '|'+self.board[3]+'|'+self.board[4]+'|'+self.board[5]+'|'\n",
    "        )\n",
    "\n",
    "        print(\n",
    "            '|'+self.board[6]+'|'+self.board[7]+'|'+self.board[8]+'|'\n",
    "        )\n",
    "\n",
    "        print('-----------------')\n",
    "\n",
    "        print(\"\")\n",
    "    \n",
    "\n",
    "    def GetPositions(self):\n",
    "\n",
    "        'recursively prompts user to enter correct position for a piece'\n",
    "\n",
    "        pos=input('Enter numbers between 1-9 to place the piece in a specific box')\n",
    "\n",
    "        if len(pos)!=1 or pos.isnumeric() is False:\n",
    "\n",
    "            print('Nah!!!. Please Enter A Valid Number Between 1-9')\n",
    "\n",
    "            return self.GetPositions()\n",
    "        \n",
    "        elif self.board[int(pos)-1]!=' ':\n",
    "\n",
    "            print(\"OOPS!!!. Position Is Already Occupied. Try Another One\")\n",
    "\n",
    "            return self.GetPositions()\n",
    "    \n",
    "        else:\n",
    "\n",
    "            return int(pos)-1\n",
    "    \n",
    "\n",
    "    def Status(self):\n",
    "\n",
    "        'checks whether status of the game is draw or won by a player.'\n",
    "\n",
    "        winningPos=[(0,1,2),(0,3,6),(0,4,8),(1,4,7),(3,4,5),(2,4,6)]\n",
    "\n",
    "        # print('p1')\n",
    "\n",
    "        # print(self.player1)\n",
    "\n",
    "        # print('p2')\n",
    "\n",
    "        # print(self.player2)\n",
    "\n",
    "        # find out the winner.\n",
    "\n",
    "        for pos in winningPos:\n",
    "\n",
    "            # print('pos:',pos)\n",
    "\n",
    "            if all([self.board[x]==self.player1 for x in pos]):\n",
    "\n",
    "                return self.player1\n",
    "\n",
    "            elif all ([self.board[x]==self.player2 for x in pos]):\n",
    "\n",
    "                return self.player2\n",
    "        \n",
    "        # find out whether the game is still in progress or drawn\n",
    "\n",
    "        if any([x==' ' for x in self.board]):\n",
    "\n",
    "            return None # is alive\n",
    "        \n",
    "        else:\n",
    "\n",
    "            return \" \" # draw\n",
    " "
   ]
  },
  {
   "cell_type": "code",
   "execution_count": 88,
   "metadata": {},
   "outputs": [],
   "source": [
    "import random"
   ]
  },
  {
   "cell_type": "code",
   "execution_count": 89,
   "metadata": {},
   "outputs": [],
   "source": [
    "def GamePlay():\n",
    "\n",
    "    \"Game play function Tic-Tac-Toe\"\n",
    "\n",
    "    print(\"Welcome to Tic-Tac-Toe\")\n",
    "\n",
    "    player1=random.choice([\"X\",\"O\"])\n",
    "\n",
    "    player2=[x for x in [\"X\",\"O\"] if x!=player1][0]\n",
    "\n",
    "    # Initialized Tic-Tac-Toe Module\n",
    "\n",
    "    tictactoe=TicTacToe(player1=player1,player2=player2)\n",
    "\n",
    "    # Print Blank Tic Tac Toe Board\n",
    "\n",
    "    tictactoe.Board()\n",
    "\n",
    "    winner=None\n",
    "\n",
    "    while winner is None:\n",
    "\n",
    "        # get position for player 1\n",
    "\n",
    "        player1pos=tictactoe.GetPositions()\n",
    "\n",
    "        # assign player 1 piece to the position\n",
    "\n",
    "        tictactoe.board[player1pos]=player1\n",
    "\n",
    "        # print the board with updated piece\n",
    "\n",
    "        tictactoe.Board()\n",
    "\n",
    "        # Check the status\n",
    "\n",
    "        winner=tictactoe.Status()\n",
    "\n",
    "        print('status of the game.',winner)\n",
    "\n",
    "        if winner != None:\n",
    "\n",
    "            if winner==tictactoe.player1 or winner==tictactoe.player2:\n",
    "\n",
    "                print('Congratulations Player '+winner+ 'Won The Game')\n",
    "            \n",
    "            else:\n",
    "\n",
    "                print(\"Game Is Drawn\")\n",
    "\n",
    "            break\n",
    "\n",
    "        # Prompt Player 2 to place his piece \n",
    "\n",
    "        player2pos=tictactoe.GetPositions()\n",
    "\n",
    "        # assign player 1 piece to the position\n",
    "\n",
    "        tictactoe.board[player2pos]=player2\n",
    "\n",
    "        # print the board with updated piece\n",
    "\n",
    "        tictactoe.Board()\n",
    "\n",
    "        # Check the status\n",
    "\n",
    "        winner=tictactoe.Status()\n",
    "\n",
    "        print('status of the game.',winner)\n",
    "\n",
    "        if winner != None:\n",
    "\n",
    "            if winner==tictactoe.player1 or winner==tictactoe.player2:\n",
    "\n",
    "                print('Congratulations Player '+winner+ 'Won The Game')\n",
    "            \n",
    "            else:\n",
    "\n",
    "                print(\"Game Is Drawn\")\n",
    "\n",
    "            break\n",
    "    \n",
    "    restartOption=input('Do you want to play again? Y/N')\n",
    "\n",
    "\n",
    "    if restartOption=='Y':\n",
    "\n",
    "        GamePlay()\n",
    "    \n",
    "\n",
    "    else:\n",
    "\n",
    "        print(\"Thank You. Hoping to see you again.\")\n"
   ]
  },
  {
   "cell_type": "code",
   "execution_count": 90,
   "metadata": {},
   "outputs": [
    {
     "name": "stdout",
     "output_type": "stream",
     "text": [
      "Welcome to Tic-Tac-Toe\n",
      "\n",
      "-----------------\n",
      "| | | |\n",
      "| | | |\n",
      "| | | |\n",
      "-----------------\n",
      "\n",
      "\n",
      "-----------------\n",
      "|X| | |\n",
      "| | | |\n",
      "| | | |\n",
      "-----------------\n",
      "\n",
      "status of the game. None\n",
      "OOPS!!!. Position Is Already Occupied. Try Another One\n",
      "\n",
      "-----------------\n",
      "|X|O| |\n",
      "| | | |\n",
      "| | | |\n",
      "-----------------\n",
      "\n",
      "status of the game. None\n",
      "\n",
      "-----------------\n",
      "|X|O| |\n",
      "|X| | |\n",
      "| | | |\n",
      "-----------------\n",
      "\n",
      "status of the game. None\n",
      "\n",
      "-----------------\n",
      "|X|O| |\n",
      "|X|O| |\n",
      "| | | |\n",
      "-----------------\n",
      "\n",
      "status of the game. None\n",
      "OOPS!!!. Position Is Already Occupied. Try Another One\n",
      "\n",
      "-----------------\n",
      "|X|O| |\n",
      "|X|O| |\n",
      "|X| | |\n",
      "-----------------\n",
      "\n",
      "status of the game. X\n",
      "Congratulations Player XWon The Game\n",
      "Thank You. Hoping to see you again.\n"
     ]
    }
   ],
   "source": [
    "GamePlay()"
   ]
  },
  {
   "cell_type": "code",
   "execution_count": null,
   "metadata": {},
   "outputs": [],
   "source": []
  }
 ],
 "metadata": {
  "kernelspec": {
   "display_name": "Python 3",
   "language": "python",
   "name": "python3"
  },
  "language_info": {
   "codemirror_mode": {
    "name": "ipython",
    "version": 3
   },
   "file_extension": ".py",
   "mimetype": "text/x-python",
   "name": "python",
   "nbconvert_exporter": "python",
   "pygments_lexer": "ipython3",
   "version": "3.10.12"
  }
 },
 "nbformat": 4,
 "nbformat_minor": 2
}
